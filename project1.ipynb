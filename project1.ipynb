{
 "cells": [
  {
   "cell_type": "code",
   "execution_count": 2,
   "id": "829d064a",
   "metadata": {},
   "outputs": [],
   "source": [
    "import pandas as pd\n",
    "import matplotlib.pyplot as plt\n",
    "import numpy as np"
   ]
  },
  {
   "cell_type": "code",
   "execution_count": 3,
   "id": "32e36216",
   "metadata": {},
   "outputs": [],
   "source": [
    "stock_raw = pd.read_csv(r'C:\\Users\\ericj\\Desktop\\Netflix through the Pandemic\\project1/NFLX - COVID.csv', \n",
    "                        encoding = 'utf-8')\n",
    "\n",
    "cases_raw = pd.read_csv(r'C:\\Users\\ericj\\Desktop\\Netflix through the Pandemic\\project1/cases_shortened.csv',\n",
    "                       encoding = 'utf-8')"
   ]
  },
  {
   "cell_type": "code",
   "execution_count": 4,
   "id": "d56e264f",
   "metadata": {},
   "outputs": [
    {
     "data": {
      "text/html": [
       "<div>\n",
       "<style scoped>\n",
       "    .dataframe tbody tr th:only-of-type {\n",
       "        vertical-align: middle;\n",
       "    }\n",
       "\n",
       "    .dataframe tbody tr th {\n",
       "        vertical-align: top;\n",
       "    }\n",
       "\n",
       "    .dataframe thead th {\n",
       "        text-align: right;\n",
       "    }\n",
       "</style>\n",
       "<table border=\"1\" class=\"dataframe\">\n",
       "  <thead>\n",
       "    <tr style=\"text-align: right;\">\n",
       "      <th></th>\n",
       "      <th>Date</th>\n",
       "      <th>Open</th>\n",
       "      <th>High</th>\n",
       "      <th>Low</th>\n",
       "      <th>Close</th>\n",
       "      <th>Adj Close</th>\n",
       "      <th>Volume</th>\n",
       "    </tr>\n",
       "  </thead>\n",
       "  <tbody>\n",
       "    <tr>\n",
       "      <th>0</th>\n",
       "      <td>2019-01-02</td>\n",
       "      <td>259.279999</td>\n",
       "      <td>269.750000</td>\n",
       "      <td>256.579987</td>\n",
       "      <td>267.660004</td>\n",
       "      <td>267.660004</td>\n",
       "      <td>11679500</td>\n",
       "    </tr>\n",
       "    <tr>\n",
       "      <th>1</th>\n",
       "      <td>2019-01-03</td>\n",
       "      <td>270.200012</td>\n",
       "      <td>275.790009</td>\n",
       "      <td>264.429993</td>\n",
       "      <td>271.200012</td>\n",
       "      <td>271.200012</td>\n",
       "      <td>14969600</td>\n",
       "    </tr>\n",
       "    <tr>\n",
       "      <th>2</th>\n",
       "      <td>2019-01-04</td>\n",
       "      <td>281.880005</td>\n",
       "      <td>297.799988</td>\n",
       "      <td>278.540009</td>\n",
       "      <td>297.570007</td>\n",
       "      <td>297.570007</td>\n",
       "      <td>19330100</td>\n",
       "    </tr>\n",
       "    <tr>\n",
       "      <th>3</th>\n",
       "      <td>2019-01-07</td>\n",
       "      <td>302.100006</td>\n",
       "      <td>316.799988</td>\n",
       "      <td>301.649994</td>\n",
       "      <td>315.339996</td>\n",
       "      <td>315.339996</td>\n",
       "      <td>18620100</td>\n",
       "    </tr>\n",
       "    <tr>\n",
       "      <th>4</th>\n",
       "      <td>2019-01-08</td>\n",
       "      <td>319.980011</td>\n",
       "      <td>320.589996</td>\n",
       "      <td>308.010010</td>\n",
       "      <td>320.269989</td>\n",
       "      <td>320.269989</td>\n",
       "      <td>15359200</td>\n",
       "    </tr>\n",
       "  </tbody>\n",
       "</table>\n",
       "</div>"
      ],
      "text/plain": [
       "         Date        Open        High         Low       Close   Adj Close  \\\n",
       "0  2019-01-02  259.279999  269.750000  256.579987  267.660004  267.660004   \n",
       "1  2019-01-03  270.200012  275.790009  264.429993  271.200012  271.200012   \n",
       "2  2019-01-04  281.880005  297.799988  278.540009  297.570007  297.570007   \n",
       "3  2019-01-07  302.100006  316.799988  301.649994  315.339996  315.339996   \n",
       "4  2019-01-08  319.980011  320.589996  308.010010  320.269989  320.269989   \n",
       "\n",
       "     Volume  \n",
       "0  11679500  \n",
       "1  14969600  \n",
       "2  19330100  \n",
       "3  18620100  \n",
       "4  15359200  "
      ]
     },
     "execution_count": 4,
     "metadata": {},
     "output_type": "execute_result"
    }
   ],
   "source": [
    "stock_raw.head()"
   ]
  },
  {
   "cell_type": "code",
   "execution_count": 5,
   "id": "1700dac8",
   "metadata": {},
   "outputs": [
    {
     "name": "stdout",
     "output_type": "stream",
     "text": [
      "863\n"
     ]
    }
   ],
   "source": [
    "print(len(stock_raw['Date']))"
   ]
  },
  {
   "cell_type": "code",
   "execution_count": 6,
   "id": "6e298ee5",
   "metadata": {
    "scrolled": true
   },
   "outputs": [
    {
     "data": {
      "text/html": [
       "<div>\n",
       "<style scoped>\n",
       "    .dataframe tbody tr th:only-of-type {\n",
       "        vertical-align: middle;\n",
       "    }\n",
       "\n",
       "    .dataframe tbody tr th {\n",
       "        vertical-align: top;\n",
       "    }\n",
       "\n",
       "    .dataframe thead th {\n",
       "        text-align: right;\n",
       "    }\n",
       "</style>\n",
       "<table border=\"1\" class=\"dataframe\">\n",
       "  <thead>\n",
       "    <tr style=\"text-align: right;\">\n",
       "      <th></th>\n",
       "      <th>Date</th>\n",
       "      <th>Close</th>\n",
       "    </tr>\n",
       "  </thead>\n",
       "  <tbody>\n",
       "    <tr>\n",
       "      <th>0</th>\n",
       "      <td>2019-01-02</td>\n",
       "      <td>267.660004</td>\n",
       "    </tr>\n",
       "    <tr>\n",
       "      <th>1</th>\n",
       "      <td>2019-01-03</td>\n",
       "      <td>271.200012</td>\n",
       "    </tr>\n",
       "    <tr>\n",
       "      <th>2</th>\n",
       "      <td>2019-01-04</td>\n",
       "      <td>297.570007</td>\n",
       "    </tr>\n",
       "    <tr>\n",
       "      <th>3</th>\n",
       "      <td>2019-01-07</td>\n",
       "      <td>315.339996</td>\n",
       "    </tr>\n",
       "    <tr>\n",
       "      <th>4</th>\n",
       "      <td>2019-01-08</td>\n",
       "      <td>320.269989</td>\n",
       "    </tr>\n",
       "  </tbody>\n",
       "</table>\n",
       "</div>"
      ],
      "text/plain": [
       "         Date       Close\n",
       "0  2019-01-02  267.660004\n",
       "1  2019-01-03  271.200012\n",
       "2  2019-01-04  297.570007\n",
       "3  2019-01-07  315.339996\n",
       "4  2019-01-08  320.269989"
      ]
     },
     "execution_count": 6,
     "metadata": {},
     "output_type": "execute_result"
    }
   ],
   "source": [
    "stock_close = stock_raw[['Date','Close']]\n",
    "stock_close.head()"
   ]
  },
  {
   "cell_type": "code",
   "execution_count": 7,
   "id": "9869d715",
   "metadata": {},
   "outputs": [
    {
     "data": {
      "text/html": [
       "<div>\n",
       "<style scoped>\n",
       "    .dataframe tbody tr th:only-of-type {\n",
       "        vertical-align: middle;\n",
       "    }\n",
       "\n",
       "    .dataframe tbody tr th {\n",
       "        vertical-align: top;\n",
       "    }\n",
       "\n",
       "    .dataframe thead th {\n",
       "        text-align: right;\n",
       "    }\n",
       "</style>\n",
       "<table border=\"1\" class=\"dataframe\">\n",
       "  <thead>\n",
       "    <tr style=\"text-align: right;\">\n",
       "      <th></th>\n",
       "      <th>Entity</th>\n",
       "      <th>Code</th>\n",
       "      <th>Day</th>\n",
       "      <th>Daily new confirmed cases of COVID-19</th>\n",
       "      <th>Daily new confirmed deaths due to COVID-19</th>\n",
       "    </tr>\n",
       "  </thead>\n",
       "  <tbody>\n",
       "    <tr>\n",
       "      <th>0</th>\n",
       "      <td>World</td>\n",
       "      <td>OWID_WRL</td>\n",
       "      <td>2020-01-22</td>\n",
       "      <td>0</td>\n",
       "      <td>0</td>\n",
       "    </tr>\n",
       "    <tr>\n",
       "      <th>1</th>\n",
       "      <td>World</td>\n",
       "      <td>OWID_WRL</td>\n",
       "      <td>2020-01-23</td>\n",
       "      <td>100</td>\n",
       "      <td>1</td>\n",
       "    </tr>\n",
       "    <tr>\n",
       "      <th>2</th>\n",
       "      <td>World</td>\n",
       "      <td>OWID_WRL</td>\n",
       "      <td>2020-01-24</td>\n",
       "      <td>287</td>\n",
       "      <td>8</td>\n",
       "    </tr>\n",
       "    <tr>\n",
       "      <th>3</th>\n",
       "      <td>World</td>\n",
       "      <td>OWID_WRL</td>\n",
       "      <td>2020-01-25</td>\n",
       "      <td>493</td>\n",
       "      <td>16</td>\n",
       "    </tr>\n",
       "    <tr>\n",
       "      <th>4</th>\n",
       "      <td>World</td>\n",
       "      <td>OWID_WRL</td>\n",
       "      <td>2020-01-26</td>\n",
       "      <td>683</td>\n",
       "      <td>14</td>\n",
       "    </tr>\n",
       "  </tbody>\n",
       "</table>\n",
       "</div>"
      ],
      "text/plain": [
       "  Entity      Code         Day  Daily new confirmed cases of COVID-19  \\\n",
       "0  World  OWID_WRL  2020-01-22                                      0   \n",
       "1  World  OWID_WRL  2020-01-23                                    100   \n",
       "2  World  OWID_WRL  2020-01-24                                    287   \n",
       "3  World  OWID_WRL  2020-01-25                                    493   \n",
       "4  World  OWID_WRL  2020-01-26                                    683   \n",
       "\n",
       "   Daily new confirmed deaths due to COVID-19  \n",
       "0                                           0  \n",
       "1                                           1  \n",
       "2                                           8  \n",
       "3                                          16  \n",
       "4                                          14  "
      ]
     },
     "execution_count": 7,
     "metadata": {},
     "output_type": "execute_result"
    }
   ],
   "source": [
    "cases_raw.head()"
   ]
  },
  {
   "cell_type": "code",
   "execution_count": 8,
   "id": "4cb4d8ba",
   "metadata": {},
   "outputs": [
    {
     "data": {
      "text/html": [
       "<div>\n",
       "<style scoped>\n",
       "    .dataframe tbody tr th:only-of-type {\n",
       "        vertical-align: middle;\n",
       "    }\n",
       "\n",
       "    .dataframe tbody tr th {\n",
       "        vertical-align: top;\n",
       "    }\n",
       "\n",
       "    .dataframe thead th {\n",
       "        text-align: right;\n",
       "    }\n",
       "</style>\n",
       "<table border=\"1\" class=\"dataframe\">\n",
       "  <thead>\n",
       "    <tr style=\"text-align: right;\">\n",
       "      <th></th>\n",
       "      <th>Date</th>\n",
       "      <th>Daily new confirmed cases of COVID-19</th>\n",
       "    </tr>\n",
       "  </thead>\n",
       "  <tbody>\n",
       "    <tr>\n",
       "      <th>0</th>\n",
       "      <td>2020-01-22</td>\n",
       "      <td>0</td>\n",
       "    </tr>\n",
       "    <tr>\n",
       "      <th>1</th>\n",
       "      <td>2020-01-23</td>\n",
       "      <td>100</td>\n",
       "    </tr>\n",
       "    <tr>\n",
       "      <th>2</th>\n",
       "      <td>2020-01-24</td>\n",
       "      <td>287</td>\n",
       "    </tr>\n",
       "    <tr>\n",
       "      <th>3</th>\n",
       "      <td>2020-01-25</td>\n",
       "      <td>493</td>\n",
       "    </tr>\n",
       "    <tr>\n",
       "      <th>4</th>\n",
       "      <td>2020-01-26</td>\n",
       "      <td>683</td>\n",
       "    </tr>\n",
       "  </tbody>\n",
       "</table>\n",
       "</div>"
      ],
      "text/plain": [
       "         Date  Daily new confirmed cases of COVID-19\n",
       "0  2020-01-22                                      0\n",
       "1  2020-01-23                                    100\n",
       "2  2020-01-24                                    287\n",
       "3  2020-01-25                                    493\n",
       "4  2020-01-26                                    683"
      ]
     },
     "execution_count": 8,
     "metadata": {},
     "output_type": "execute_result"
    }
   ],
   "source": [
    "cases_raw = cases_raw.rename(columns={'Day' : 'Date'})\n",
    "cases_by_date = cases_raw[['Date', 'Daily new confirmed cases of COVID-19']]\n",
    "cases_by_date.head()"
   ]
  },
  {
   "cell_type": "code",
   "execution_count": 9,
   "id": "a30e6884",
   "metadata": {},
   "outputs": [
    {
     "data": {
      "text/html": [
       "<div>\n",
       "<style scoped>\n",
       "    .dataframe tbody tr th:only-of-type {\n",
       "        vertical-align: middle;\n",
       "    }\n",
       "\n",
       "    .dataframe tbody tr th {\n",
       "        vertical-align: top;\n",
       "    }\n",
       "\n",
       "    .dataframe thead th {\n",
       "        text-align: right;\n",
       "    }\n",
       "</style>\n",
       "<table border=\"1\" class=\"dataframe\">\n",
       "  <thead>\n",
       "    <tr style=\"text-align: right;\">\n",
       "      <th></th>\n",
       "      <th>Date</th>\n",
       "      <th>Close</th>\n",
       "      <th>Daily new confirmed cases of COVID-19</th>\n",
       "    </tr>\n",
       "  </thead>\n",
       "  <tbody>\n",
       "    <tr>\n",
       "      <th>0</th>\n",
       "      <td>2020-01-22</td>\n",
       "      <td>326.000000</td>\n",
       "      <td>0</td>\n",
       "    </tr>\n",
       "    <tr>\n",
       "      <th>1</th>\n",
       "      <td>2020-01-23</td>\n",
       "      <td>349.600006</td>\n",
       "      <td>100</td>\n",
       "    </tr>\n",
       "    <tr>\n",
       "      <th>2</th>\n",
       "      <td>2020-01-24</td>\n",
       "      <td>353.160004</td>\n",
       "      <td>287</td>\n",
       "    </tr>\n",
       "    <tr>\n",
       "      <th>3</th>\n",
       "      <td>2020-01-25</td>\n",
       "      <td>NaN</td>\n",
       "      <td>493</td>\n",
       "    </tr>\n",
       "    <tr>\n",
       "      <th>4</th>\n",
       "      <td>2020-01-26</td>\n",
       "      <td>NaN</td>\n",
       "      <td>683</td>\n",
       "    </tr>\n",
       "  </tbody>\n",
       "</table>\n",
       "</div>"
      ],
      "text/plain": [
       "         Date       Close  Daily new confirmed cases of COVID-19\n",
       "0  2020-01-22  326.000000                                      0\n",
       "1  2020-01-23  349.600006                                    100\n",
       "2  2020-01-24  353.160004                                    287\n",
       "3  2020-01-25         NaN                                    493\n",
       "4  2020-01-26         NaN                                    683"
      ]
     },
     "execution_count": 9,
     "metadata": {},
     "output_type": "execute_result"
    }
   ],
   "source": [
    "stock_cases = pd.merge(stock_close, cases_by_date, how = 'right')\n",
    "stock_cases.head()"
   ]
  },
  {
   "cell_type": "code",
   "execution_count": 10,
   "id": "5e9f3b9e",
   "metadata": {},
   "outputs": [
    {
     "name": "stdout",
     "output_type": "stream",
     "text": [
      "         Date       Close  Daily new confirmed cases of COVID-19\n",
      "0  2020-01-22  326.000000                                      0\n",
      "1  2020-01-23  349.600006                                    100\n",
      "2  2020-01-24  353.160004                                    287\n",
      "5  2020-01-27  342.880005                                    809\n",
      "6  2020-01-28  348.519989                                   2651\n",
      "           Date       Close  Daily new confirmed cases of COVID-19\n",
      "856  2022-05-27  195.190002                                 568074\n",
      "860  2022-05-31  197.440002                                 618580\n",
      "861  2022-06-01  192.910004                                 692064\n",
      "862  2022-06-02  205.089996                                 524610\n",
      "863  2022-06-03  198.979996                                 541954\n",
      "4083952\n"
     ]
    }
   ],
   "source": [
    "stock_cases = stock_cases.dropna()\n",
    "print(stock_cases.head())\n",
    "print(stock_cases.tail())\n",
    "print(stock_cases['Daily new confirmed cases of COVID-19'].max())"
   ]
  },
  {
   "cell_type": "code",
   "execution_count": 11,
   "id": "34816511",
   "metadata": {},
   "outputs": [
    {
     "data": {
      "text/plain": [
       "Date                                     598\n",
       "Close                                    598\n",
       "Daily new confirmed cases of COVID-19    598\n",
       "dtype: int64"
      ]
     },
     "execution_count": 11,
     "metadata": {},
     "output_type": "execute_result"
    }
   ],
   "source": [
    "stock_cases.count()"
   ]
  },
  {
   "cell_type": "code",
   "execution_count": 12,
   "id": "5b94838d",
   "metadata": {
    "scrolled": true
   },
   "outputs": [
    {
     "data": {
      "image/png": "[encoded data removed]",
      "text/plain": [
       "<Figure size 864x576 with 1 Axes>"
      ]
     },
     "metadata": {
      "needs_background": "light"
     },
     "output_type": "display_data"
    }
   ],
   "source": [
    "plt.figure(figsize=(12,8))\n",
    "# If plt.figure does not change the size, try placing it before plt.plot!\n",
    "\n",
    "plt.plot(stock_cases['Date'], stock_cases['Close'], color = 'green')\n",
    "plt.xticks(np.arange(0, 598, 50), rotation = 45, rotation_mode = 'anchor', ha = 'right')\n",
    "plt.xlim(0, 598)\n",
    "plt.xlabel('Date (yyyy-mm-dd)')\n",
    "plt.ylabel('Closing price in $')\n",
    "plt.title('Netflix Closing Prices from 2019-01-22 to 2022-06-03')\n",
    "plt.show()"
   ]
  },
  {
   "cell_type": "code",
   "execution_count": 13,
   "id": "6bc3ad23",
   "metadata": {},
   "outputs": [
    {
     "data": {
      "image/png": "[encoded data removed]",
      "text/plain": [
       "<Figure size 864x576 with 1 Axes>"
      ]
     },
     "metadata": {
      "needs_background": "light"
     },
     "output_type": "display_data"
    }
   ],
   "source": [
    "plt.figure(figsize=(12,8))\n",
    "# If plt.figure does not change the size, try placing it before plt.plot!\n",
    "\n",
    "plt.plot(stock_cases['Date'], stock_cases['Daily new confirmed cases of COVID-19'], color = 'red')\n",
    "plt.xticks(np.arange(0, 598, 50), rotation = 45, rotation_mode = 'anchor', ha = 'right')\n",
    "plt.xlim(0, 598)\n",
    "plt.xlabel('Date (yyyy-mm-dd)')\n",
    "plt.ylabel('Worldwide Case Count in Millions')\n",
    "plt.title('Worldwide COVID-19 Case Count from 2019-01-22 to 2022-06-03')\n",
    "plt.show()"
   ]
  },
  {
   "cell_type": "code",
   "execution_count": 14,
   "id": "886f8eca",
   "metadata": {
    "scrolled": true
   },
   "outputs": [
    {
     "data": {
      "text/html": [
       "<div>\n",
       "<style scoped>\n",
       "    .dataframe tbody tr th:only-of-type {\n",
       "        vertical-align: middle;\n",
       "    }\n",
       "\n",
       "    .dataframe tbody tr th {\n",
       "        vertical-align: top;\n",
       "    }\n",
       "\n",
       "    .dataframe thead th {\n",
       "        text-align: right;\n",
       "    }\n",
       "</style>\n",
       "<table border=\"1\" class=\"dataframe\">\n",
       "  <thead>\n",
       "    <tr style=\"text-align: right;\">\n",
       "      <th></th>\n",
       "      <th>Close</th>\n",
       "      <th>Daily new confirmed cases of COVID-19</th>\n",
       "    </tr>\n",
       "    <tr>\n",
       "      <th>Date</th>\n",
       "      <th></th>\n",
       "      <th></th>\n",
       "    </tr>\n",
       "  </thead>\n",
       "  <tbody>\n",
       "    <tr>\n",
       "      <th>2020-01-22</th>\n",
       "      <td>326.000000</td>\n",
       "      <td>0</td>\n",
       "    </tr>\n",
       "    <tr>\n",
       "      <th>2020-01-23</th>\n",
       "      <td>349.600006</td>\n",
       "      <td>100</td>\n",
       "    </tr>\n",
       "    <tr>\n",
       "      <th>2020-01-24</th>\n",
       "      <td>353.160004</td>\n",
       "      <td>287</td>\n",
       "    </tr>\n",
       "    <tr>\n",
       "      <th>2020-01-27</th>\n",
       "      <td>342.880005</td>\n",
       "      <td>809</td>\n",
       "    </tr>\n",
       "    <tr>\n",
       "      <th>2020-01-28</th>\n",
       "      <td>348.519989</td>\n",
       "      <td>2651</td>\n",
       "    </tr>\n",
       "  </tbody>\n",
       "</table>\n",
       "</div>"
      ],
      "text/plain": [
       "                 Close  Daily new confirmed cases of COVID-19\n",
       "Date                                                         \n",
       "2020-01-22  326.000000                                      0\n",
       "2020-01-23  349.600006                                    100\n",
       "2020-01-24  353.160004                                    287\n",
       "2020-01-27  342.880005                                    809\n",
       "2020-01-28  348.519989                                   2651"
      ]
     },
     "execution_count": 14,
     "metadata": {},
     "output_type": "execute_result"
    }
   ],
   "source": [
    "scatter_data = stock_cases.set_index('Date')\n",
    "scatter_data.head()"
   ]
  },
  {
   "cell_type": "code",
   "execution_count": null,
   "id": "0e0c840c",
   "metadata": {},
   "outputs": [],
   "source": []
  },
  {
   "cell_type": "code",
   "execution_count": null,
   "id": "8ed881c2",
   "metadata": {},
   "outputs": [],
   "source": []
  },
  {
   "cell_type": "code",
   "execution_count": null,
   "id": "43ee279d",
   "metadata": {},
   "outputs": [],
   "source": []
  },
  {
   "cell_type": "code",
   "execution_count": 15,
   "id": "f8960380",
   "metadata": {},
   "outputs": [
    {
     "data": {
      "image/png": "[encoded data removed]",
      "text/plain": [
       "<Figure size 864x576 with 1 Axes>"
      ]
     },
     "metadata": {
      "needs_background": "light"
     },
     "output_type": "display_data"
    }
   ],
   "source": [
    "plt.figure(figsize=(12,8))\n",
    "plt.scatter(stock_cases['Close'], stock_cases['Daily new confirmed cases of COVID-19'])\n",
    "plt.show()"
   ]
  },
  {
   "cell_type": "code",
   "execution_count": null,
   "id": "c2506267",
   "metadata": {},
   "outputs": [],
   "source": []
  },
  {
   "cell_type": "code",
   "execution_count": null,
   "id": "b1b5eb16",
   "metadata": {},
   "outputs": [],
   "source": []
  }
 ],
 "metadata": {
  "kernelspec": {
   "display_name": "Python 3 (ipykernel)",
   "language": "python",
   "name": "python3"
  },
  "language_info": {
   "codemirror_mode": {
    "name": "ipython",
    "version": 3
   },
   "file_extension": ".py",
   "mimetype": "text/x-python",
   "name": "python",
   "nbconvert_exporter": "python",
   "pygments_lexer": "ipython3",
   "version": "3.9.12"
  }
 },
 "nbformat": 4,
 "nbformat_minor": 5
}
