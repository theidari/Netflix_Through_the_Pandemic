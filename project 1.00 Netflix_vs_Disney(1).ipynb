{
  "cells": [
    {
      "cell_type": "code",
      "execution_count": null,
      "metadata": {
        "colab": {
          "base_uri": "https://localhost:8080/"
        },
        "id": "APaL_odxIgQV",
        "outputId": "a1e4e632-c038-41a9-d092-724c55684d5a"
      },
      "outputs": [],
      "source": [
        "!pip install yfinance --user"
      ]
    },
    {
      "cell_type": "code",
      "execution_count": null,
      "metadata": {
        "colab": {
          "base_uri": "https://localhost:8080/"
        },
        "id": "1M9PBl1YJhUz",
        "outputId": "0fc4d3c3-f9e0-4f52-cd52-a4964392abf7"
      },
      "outputs": [],
      "source": [
        "!pip install chart-studio"
      ]
    },
    {
      "cell_type": "code",
      "execution_count": null,
      "metadata": {
        "id": "nZVEHCrrI-Zu"
      },
      "outputs": [],
      "source": [
        "import yfinance as yf\n",
        "# import required libraries\n",
        "import pandas as pd\n",
        "import numpy as np\n",
        "import matplotlib.pyplot as plt\n",
        "%matplotlib inline\n",
        "\n",
        "from math import *\n",
        "import seaborn\n",
        "import warnings\n",
        "warnings.filterwarnings(\"ignore\")\n",
        "\n",
        "\n",
        "import chart_studio.plotly as py\n",
        "import plotly.graph_objects as go\n",
        "import plotly.offline as pyoff\n",
        "import plotly.express as px\n",
        "from datetime import datetime\n",
        "\n"
      ]
    },
    {
      "cell_type": "code",
      "execution_count": null,
      "metadata": {
        "id": "qDbTqAoiL08X"
      },
      "outputs": [],
      "source": [
        "# margins for the data\n",
        "start_date = datetime.strptime(\"01-01-2019\", '%d-%m-%Y')\n",
        "end_date = datetime.strptime(\"01-12-2022\", '%d-%m-%Y')\n"
      ]
    },
    {
      "cell_type": "code",
      "execution_count": null,
      "metadata": {
        "colab": {
          "base_uri": "https://localhost:8080/",
          "height": 255
        },
        "id": "AXYFD_epJkxI",
        "outputId": "b705b61f-ab98-4b20-c5e5-0534c8ed872d"
      },
      "outputs": [],
      "source": [
        "# fetch netflix data from yfinance\n",
        "netflix_stocks = yf.download(\"NFLX\", start = start_date, end=end_date)\n",
        "netflix_df = pd.DataFrame(netflix_stocks)\n",
        "netflix_df.head()\n",
        "\n"
      ]
    },
    {
      "cell_type": "code",
      "execution_count": null,
      "metadata": {
        "id": "Mu50ekp5PQWN"
      },
      "outputs": [],
      "source": [
        "nflx = yf.Ticker(\"NFLX\")\n"
      ]
    },
    {
      "cell_type": "code",
      "execution_count": null,
      "metadata": {
        "colab": {
          "base_uri": "https://localhost:8080/",
          "height": 255
        },
        "id": "S6Pf8KksKsmv",
        "outputId": "3cdb1765-5d92-448e-c593-70eca902b6ea"
      },
      "outputs": [],
      "source": [
        "# fetch disney data from yfinance\n",
        "disney_stocks = yf.download(\"DIS\", start = start_date, end=end_date)\n",
        "disney_df = pd.DataFrame(disney_stocks)\n",
        "disney_df.head()\n",
        "\n"
      ]
    },
    {
      "cell_type": "code",
      "execution_count": null,
      "metadata": {
        "id": "ZffponjcOdNr"
      },
      "outputs": [],
      "source": [
        "\n",
        "dis = yf.Ticker(\"DIS\")\n"
      ]
    },
    {
      "cell_type": "markdown",
      "metadata": {
        "id": "OKhrwbphdSLE"
      },
      "source": [
        "# Stock Price Movement over the Years"
      ]
    },
    {
      "cell_type": "code",
      "execution_count": null,
      "metadata": {
        "colab": {
          "base_uri": "https://localhost:8080/",
          "height": 424
        },
        "id": "JTCWrxKGR9ri",
        "outputId": "b74fef62-2738-431f-c36b-1ed95713a3b1"
      },
      "outputs": [],
      "source": [
        "nflx_data = netflix_df.loc[:,\"Close\"].reset_index()\n",
        "dis_data = disney_df.loc[:,\"Close\"].reset_index()\n",
        "both_stock = pd.merge(nflx_data, dis_data, on=['Date'], suffixes=(\"_Netflix\" , \"_Disney\"))\n",
        "both_stock = both_stock.rename(columns={'Close_Netflix' : 'Netflix', 'Close_Disney' : 'Disney'})\n",
        "both_stock"
      ]
    },
    {
      "cell_type": "markdown",
      "metadata": {
        "id": "npqQaxsJ9R6u"
      },
      "source": [
        "## - It seems netflix prices are always high as of disney"
      ]
    },
    {
      "cell_type": "code",
      "execution_count": null,
      "metadata": {
        "colab": {
          "base_uri": "https://localhost:8080/",
          "height": 542
        },
        "id": "wNzoXK1p9OOD",
        "outputId": "74c8fc22-3a41-4037-9562-31023c09ab0d"
      },
      "outputs": [],
      "source": [
        "## Line Plots for Netflix and Disney\n",
        "fig = px.line(\n",
        "    both_stock, \n",
        "    x = 'Date',\n",
        "    y = [\n",
        "        'Netflix',\n",
        "        'Disney'\n",
        "    ]\n",
        ")\n",
        "\n",
        "fig.update_layout(\n",
        "    title = 'Netflix vs Disney Stock Price', # adding the title \n",
        "    xaxis_title = 'Dates', # title for x axis \n",
        "    yaxis_title = 'Prices', # title for y axis \n",
        "    xaxis = dict(           # attribures for x axis \n",
        "        showline = True,\n",
        "        showgrid = True,\n",
        "        linecolor = 'black',\n",
        "        tickfont = dict(\n",
        "            family = 'Calibri'\n",
        "        )\n",
        "    ),\n",
        "    yaxis = dict(           # attribures for y axis \n",
        "        showline = True,\n",
        "        showgrid = True,\n",
        "        linecolor = 'black',\n",
        "        tickfont = dict(\n",
        "            family = 'Times New Roman'\n",
        "        )\n",
        "    ),\n",
        "    plot_bgcolor = 'white'  # background color for the graph\n",
        ")\n",
        "\n",
        "fig.show()\n"
      ]
    },
    {
      "cell_type": "markdown",
      "metadata": {
        "id": "gw_ebB8E9Tqp"
      },
      "source": [
        "# -Quartile of Stocks"
      ]
    },
    {
      "cell_type": "code",
      "execution_count": null,
      "metadata": {
        "colab": {
          "base_uri": "https://localhost:8080/",
          "height": 143
        },
        "id": "TkU0HdPQfbVx",
        "outputId": "4dc9bda5-bc8c-4eef-c4cf-93feb4c5ecbd"
      },
      "outputs": [],
      "source": [
        "stock_quartile = both_stock.describe().loc[['25%', '50%', '75%'], : ].reset_index()\n",
        "stock_quartile = stock_quartile.rename(columns={'index' :'Quartile'})\n",
        "stock_quartile\n",
        "\n"
      ]
    },
    {
      "cell_type": "markdown",
      "metadata": {
        "id": "LlBUOjTu9YcM"
      },
      "source": [
        "## -Box plot Comparison of Stock Prices"
      ]
    },
    {
      "cell_type": "code",
      "execution_count": null,
      "metadata": {
        "colab": {
          "base_uri": "https://localhost:8080/",
          "height": 424
        },
        "id": "MGQqMk2-8cVw",
        "outputId": "fab371d7-9504-4fc6-9bc7-7a0b59532fa3"
      },
      "outputs": [],
      "source": [
        "boxplot_df = both_stock.melt(id_vars = ['Date'], var_name='Stocks', value_name='Price')\n",
        "boxplot_df"
      ]
    },
    {
      "cell_type": "code",
      "execution_count": null,
      "metadata": {
        "colab": {
          "base_uri": "https://localhost:8080/",
          "height": 542
        },
        "id": "i_ZaPHY8gKG0",
        "outputId": "1a9745eb-8353-4c0d-d679-476bc54e8a7f"
      },
      "outputs": [],
      "source": [
        "## basic box plot\n",
        "fig = px.box(\n",
        "    boxplot_df, \n",
        "    x = 'Stocks',\n",
        "    y = 'Price',\n",
        "    title = 'Prices By Stocks',\n",
        "    points = 'all', # will display dots next to the boxes \n",
        "    labels = {\n",
        "        'x': 'Stocks',\n",
        "        'y': 'Price',\n",
        "    }\n",
        ")\n",
        "\n",
        "fig.update_layout(\n",
        "    plot_bgcolor = 'white',\n",
        "    xaxis = dict(\n",
        "        showline = True,\n",
        "        linecolor = 'black'\n",
        "    ),\n",
        "    \n",
        "    yaxis = dict(\n",
        "        showline = True,\n",
        "        showgrid = False,\n",
        "        linecolor = 'black'\n",
        "    )\n",
        "    \n",
        ")\n",
        "\n",
        "fig.show()"
      ]
    },
    {
      "cell_type": "code",
      "execution_count": null,
      "metadata": {
        "colab": {
          "base_uri": "https://localhost:8080/",
          "height": 112
        },
        "id": "IEDSERYBQuXp",
        "outputId": "c5a9bb06-5c99-445c-a0e4-f45d3888e16d"
      },
      "outputs": [],
      "source": [
        "return_stocks = both_stock.copy()\n",
        "return_stocks = return_stocks.set_index('Date')\n",
        "return_stocks = return_stocks.pct_change()\n",
        "corr = return_stocks.corr()\n",
        "corr"
      ]
    },
    {
      "cell_type": "markdown",
      "metadata": {
        "id": "WXXP5sfKaqro"
      },
      "source": [
        "# - It seems stocks are opposite related to each other, when netflix returns are high, disney goes down and vice versa."
      ]
    },
    {
      "cell_type": "code",
      "execution_count": null,
      "metadata": {
        "colab": {
          "base_uri": "https://localhost:8080/",
          "height": 542
        },
        "id": "aAHOHWMLXXsq",
        "outputId": "096b461e-0eee-4a4b-e511-2f69d23675f5"
      },
      "outputs": [],
      "source": [
        "## the iris dataset \n",
        "df = px.data.iris()\n",
        "\n",
        "fig = px.scatter(\n",
        "    corr,\n",
        "    x = 'Netflix',\n",
        "    y = 'Disney',\n",
        "    size = 'Netflix', # size of the dots will be proportional to Netflix\n",
        "    hover_data = ['Netflix', 'Disney'] # additional info when hovered over a dot \n",
        ")\n",
        "\n",
        "fig.update_layout(\n",
        "    title = 'Distribution of Netflix/Disney', # adding the title \n",
        "    xaxis_title = 'Return of Netflix', # title for x axis \n",
        "    yaxis_title = 'Return of Disney', # title for y axis \n",
        "    xaxis = dict(\n",
        "    showline = True,\n",
        "    linecolor = 'black',\n",
        "    showgrid = False),\n",
        "    yaxis = dict(\n",
        "        showline = True,\n",
        "        showgrid = False,\n",
        "        linecolor = 'black'\n",
        "    ),\n",
        "    plot_bgcolor = 'white'\n",
        ")\n",
        "fig.show()"
      ]
    },
    {
      "cell_type": "markdown",
      "metadata": {
        "id": "wzZ4oTEDdYyb"
      },
      "source": [
        "# Stock Volume Movement over the Years"
      ]
    },
    {
      "cell_type": "code",
      "execution_count": null,
      "metadata": {
        "colab": {
          "base_uri": "https://localhost:8080/",
          "height": 424
        },
        "id": "tZueJ8fCdZOt",
        "outputId": "ee48b714-854e-4e25-fd5f-75ed5308f46a"
      },
      "outputs": [],
      "source": [
        "nflx_data = netflix_df.loc[:,\"Volume\"].reset_index()\n",
        "dis_data = disney_df.loc[:,\"Volume\"].reset_index()\n",
        "both_stock = pd.merge(nflx_data, dis_data, on=['Date'], suffixes=(\"_Netflix\" , \"_Disney\"))\n",
        "both_stock = both_stock.rename(columns={'Volume_Netflix' : 'Netflix', 'Volume_Disney' : 'Disney'})\n",
        "both_stock"
      ]
    },
    {
      "cell_type": "code",
      "execution_count": null,
      "metadata": {
        "colab": {
          "base_uri": "https://localhost:8080/",
          "height": 542
        },
        "id": "0XdHEEUedhBp",
        "outputId": "eac365e3-a66f-49a0-e515-8df8d9eb828a"
      },
      "outputs": [],
      "source": [
        "## Line Plots for Netflix and Disney\n",
        "fig = px.line(\n",
        "    both_stock, \n",
        "    x = 'Date',\n",
        "    y = [\n",
        "        'Netflix',\n",
        "        'Disney'\n",
        "    ]\n",
        ")\n",
        "\n",
        "fig.update_layout(\n",
        "    title = 'Netflix vs Disney Stock Volume', # adding the title \n",
        "    xaxis_title = 'Dates', # title for x axis \n",
        "    yaxis_title = 'Volume', # title for y axis \n",
        "    xaxis = dict(           # attribures for x axis \n",
        "        showline = True,\n",
        "        showgrid = True,\n",
        "        linecolor = 'black',\n",
        "        tickfont = dict(\n",
        "            family = 'Calibri'\n",
        "        )\n",
        "    ),\n",
        "    yaxis = dict(           # attribures for y axis \n",
        "        showline = True,\n",
        "        showgrid = True,\n",
        "        linecolor = 'black',\n",
        "        tickfont = dict(\n",
        "            family = 'Times New Roman'\n",
        "        )\n",
        "    ),\n",
        "    plot_bgcolor = 'white'  # background color for the graph\n",
        ")\n",
        "\n",
        "fig.show()\n"
      ]
    }
  ],
  "metadata": {
    "colab": {
      "provenance": []
    },
    "kernelspec": {
      "display_name": "Python 3.9.12 ('base')",
      "language": "python",
      "name": "python3"
    },
    "language_info": {
      "codemirror_mode": {
        "name": "ipython",
        "version": 3
      },
      "file_extension": ".py",
      "mimetype": "text/x-python",
      "name": "python",
      "nbconvert_exporter": "python",
      "pygments_lexer": "ipython3",
      "version": "3.9.12"
    },
    "vscode": {
      "interpreter": {
        "hash": "40d3a090f54c6569ab1632332b64b2c03c39dcf918b08424e98f38b5ae0af88f"
      }
    }
  },
  "nbformat": 4,
  "nbformat_minor": 0
}
